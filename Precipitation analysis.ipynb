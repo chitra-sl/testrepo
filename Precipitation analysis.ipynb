{
    "cells": [
        {
            "cell_type": "code",
            "execution_count": 1,
            "metadata": {},
            "outputs": [
                {
                    "data": {
                        "text/html": "<div>\n<style scoped>\n    .dataframe tbody tr th:only-of-type {\n        vertical-align: middle;\n    }\n\n    .dataframe tbody tr th {\n        vertical-align: top;\n    }\n\n    .dataframe thead th {\n        text-align: right;\n    }\n</style>\n<table border=\"1\" class=\"dataframe\">\n  <thead>\n    <tr style=\"text-align: right;\">\n      <th></th>\n      <th>state</th>\n      <th>date</th>\n      <th>precipitation</th>\n    </tr>\n  </thead>\n  <tbody>\n    <tr>\n      <th>0</th>\n      <td>BA</td>\n      <td>31/01/1998</td>\n      <td>63.6</td>\n    </tr>\n    <tr>\n      <th>1</th>\n      <td>BA</td>\n      <td>28/02/1998</td>\n      <td>55.6</td>\n    </tr>\n    <tr>\n      <th>2</th>\n      <td>BA</td>\n      <td>31/03/1998</td>\n      <td>117.2</td>\n    </tr>\n    <tr>\n      <th>3</th>\n      <td>BA</td>\n      <td>30/04/1998</td>\n      <td>206.0</td>\n    </tr>\n    <tr>\n      <th>4</th>\n      <td>BA</td>\n      <td>31/05/1998</td>\n      <td>250.9</td>\n    </tr>\n  </tbody>\n</table>\n</div>",
                        "text/plain": "  state        date  precipitation\n0    BA  31/01/1998           63.6\n1    BA  28/02/1998           55.6\n2    BA  31/03/1998          117.2\n3    BA  30/04/1998          206.0\n4    BA  31/05/1998          250.9"
                    },
                    "execution_count": 1,
                    "metadata": {},
                    "output_type": "execute_result"
                }
            ],
            "source": "# The code was removed by Watson Studio for sharing."
        },
        {
            "cell_type": "code",
            "execution_count": null,
            "metadata": {},
            "outputs": [],
            "source": ""
        }
    ],
    "metadata": {
        "kernelspec": {
            "display_name": "Python 3.9",
            "language": "python",
            "name": "python3"
        },
        "language_info": {
            "codemirror_mode": {
                "name": "ipython",
                "version": 3
            },
            "file_extension": ".py",
            "mimetype": "text/x-python",
            "name": "python",
            "nbconvert_exporter": "python",
            "pygments_lexer": "ipython3",
            "version": "3.9.12"
        }
    },
    "nbformat": 4,
    "nbformat_minor": 1
}